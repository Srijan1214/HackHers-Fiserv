{
 "nbformat": 4,
 "nbformat_minor": 2,
 "metadata": {
  "language_info": {
   "name": "python",
   "codemirror_mode": {
    "name": "ipython",
    "version": 3
   },
   "version": "3.7.3-final"
  },
  "orig_nbformat": 2,
  "file_extension": ".py",
  "mimetype": "text/x-python",
  "name": "python",
  "npconvert_exporter": "python",
  "pygments_lexer": "ipython3",
  "version": 3,
  "kernelspec": {
   "name": "python37364bitbasecondaccb0c1180edc481782339d9fb6e461e1",
   "display_name": "Python 3.7.3 64-bit ('base': conda)"
  }
 },
 "cells": [
  {
   "cell_type": "code",
   "execution_count": 1,
   "metadata": {},
   "outputs": [
    {
     "name": "stdout",
     "output_type": "stream",
     "text": "(30000, 24)\n"
    }
   ],
   "source": [
    "import pandas as pd\n",
    "import os\n",
    "from pathlib import Path\n",
    "df=pd.read_excel(\"D:/College\\Machine Learning/heckhers credit card default prediction/default of credit card clients.xls\")\n",
    "df=df.drop(index=0)\n",
    "df=df.drop(df.columns[0],axis=1)\n",
    "print(df.shape)\n",
    "df.head(5)\n",
    "df.dropna(inplace=True)"
   ]
  },
  {
   "cell_type": "code",
   "execution_count": 2,
   "metadata": {},
   "outputs": [],
   "source": [
    "#alter the dataframe\n",
    "\n",
    "from sklearn.preprocessing import MinMaxScaler\n",
    "scaler = MinMaxScaler()\n",
    "df=df_scaled=pd.DataFrame(scaler.fit_transform(df),columns=df.columns)\n",
    "df_scaled.head(12)\n",
    "df=df.sort_values(by=['Y'])\n",
    "\n",
    "# df = df.tail(13200)\n",
    "df=df.sample(frac=1)\n",
    "\n",
    "X = df.drop('Y',1)\n",
    "y = df['Y']\n",
    "df=df.drop(df.columns[-1], axis=1)"
   ]
  },
  {
   "cell_type": "code",
   "execution_count": 3,
   "metadata": {},
   "outputs": [],
   "source": [
    "from sklearn.model_selection import train_test_split\n",
    "X_train, X_test, y_train, y_test = train_test_split(X,y,test_size=0.2)\n",
    "\n",
    "import numpy as np\n",
    "X_train = np.reshape(X_train.values,(len(X_train),(X_train.shape[1]),1))\n",
    "X_test = np.reshape(X_test.values,(len(X_test),(X_train.shape[1]),1))"
   ]
  },
  {
   "cell_type": "code",
   "execution_count": 4,
   "metadata": {},
   "outputs": [
    {
     "name": "stdout",
     "output_type": "stream",
     "text": "Old Number of Features\n23\n"
    }
   ],
   "source": [
    "print(\"Old Number of Features\")\n",
    "print(X_train.shape[1])"
   ]
  },
  {
   "cell_type": "code",
   "execution_count": 5,
   "metadata": {},
   "outputs": [],
   "source": [
    "# Reduce the number of feature given the p-value\n",
    "\n",
    "import statsmodels.regression.linear_model as sm\n",
    "def backwardElimination(x, Y, sl):\n",
    "    x = np.array(x, dtype=float)\n",
    "    numVars = len(x[0])\n",
    "    for i in range(0, numVars):\n",
    "        regressor_OLS = sm.OLS(Y, x).fit()\n",
    "        maxVar = max(regressor_OLS.pvalues)\n",
    "        if maxVar > sl:\n",
    "            for j in range(0, numVars - i):\n",
    "                if (regressor_OLS.pvalues[j].astype(float) == maxVar):\n",
    "                    x = np.delete(x, j, 1)\n",
    "                    \n",
    "    regressor_OLS.summary()\n",
    "    return x\n",
    "\n",
    "SL = 0.05\n",
    "data_modeled = backwardElimination(X, y,SL)"
   ]
  },
  {
   "cell_type": "code",
   "execution_count": 6,
   "metadata": {},
   "outputs": [
    {
     "name": "stdout",
     "output_type": "stream",
     "text": "Number of Features after Dimentionality Redection\n15\n"
    }
   ],
   "source": [
    "print(\"Number of Features after Dimentionality Redection\")\n",
    "print(data_modeled.shape[1])"
   ]
  },
  {
   "cell_type": "code",
   "execution_count": 7,
   "metadata": {},
   "outputs": [],
   "source": [
    "from sklearn.model_selection import train_test_split\n",
    "X_train, X_test, y_train, y_test = train_test_split(data_modeled,y,test_size=0.2)\n",
    "\n",
    "import numpy as np\n",
    "X_train = np.reshape(X_train,(len(X_train),data_modeled.shape[1],1))\n",
    "X_test = np.reshape(X_test,(len(X_test),data_modeled.shape[1],1))"
   ]
  },
  {
   "cell_type": "code",
   "execution_count": 11,
   "metadata": {},
   "outputs": [
    {
     "data": {
      "text/plain": "(24000, 15, 1)"
     },
     "execution_count": 11,
     "metadata": {},
     "output_type": "execute_result"
    }
   ],
   "source": [
    "X_train.shape"
   ]
  },
  {
   "cell_type": "code",
   "execution_count": 12,
   "metadata": {},
   "outputs": [
    {
     "name": "stdout",
     "output_type": "stream",
     "text": "Logistic Regression using sklearn\nTraining Accuracy: 0.8116666666666666\nTesting Accuracy: 0.8135\nR2 score: -0.10814479824717038\n"
    }
   ],
   "source": [
    "from sklearn.linear_model import LinearRegression, LogisticRegression\n",
    "from sklearn.preprocessing import PolynomialFeatures\n",
    "from sklearn.feature_selection import VarianceThreshold\n",
    "\n",
    "poly = PolynomialFeatures(2)\n",
    "\n",
    "temp_x_train = np.reshape(X_train,(len(X_train),15))\n",
    "temp_y_train = np.reshape(y_train,(len(y_train)))\n",
    "\n",
    "temp_x_test = np.reshape(X_test,(len(X_test),15))\n",
    "temp_y_test = np.reshape(y_test,(len(y_test)))\n",
    "\n",
    "sel = VarianceThreshold(threshold=.01)\n",
    "\n",
    "sel.fit(temp_x_train)\n",
    "\n",
    "\n",
    "temp_x_train  \n",
    "\n",
    "reg = LogisticRegression().fit(poly.fit_transform(temp_x_train), temp_y_train)\n",
    "\n",
    "\n",
    "reg.intercept_\n",
    "y_predict= reg.predict(poly.fit_transform(temp_x_test))\n",
    "print(\"Logistic Regression using sklearn\")\n",
    "print(\"Training Accuracy: \"+ str(reg.score(poly.fit_transform(temp_x_train),temp_y_train)))\n",
    "print(\"Testing Accuracy: \"+ str(reg.score(poly.fit_transform(temp_x_test),temp_y_test)))\n",
    "\n",
    "\n",
    "from sklearn.metrics import r2_score\n",
    "print(\"R2 score: \" + str(r2_score(temp_y_test,y_predict)))"
   ]
  },
  {
   "cell_type": "code",
   "execution_count": 13,
   "metadata": {},
   "outputs": [
    {
     "data": {
      "text/plain": "(24000, 15, 1)"
     },
     "execution_count": 13,
     "metadata": {},
     "output_type": "execute_result"
    }
   ],
   "source": [
    "X_train.shape"
   ]
  },
  {
   "cell_type": "code",
   "execution_count": null,
   "metadata": {},
   "outputs": [],
   "source": []
  }
 ]
}